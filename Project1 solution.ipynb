{
 "cells": [
  {
   "cell_type": "markdown",
   "metadata": {
    "collapsed": true,
    "deletable": true,
    "editable": true
   },
   "source": [
    "# **Project 1: Finding Lane Lines on the Road** "
   ]
  },
  {
   "cell_type": "markdown",
   "metadata": {
    "deletable": true,
    "editable": true
   },
   "source": [
    "\n",
    "The goals / steps of this project are the following:\n",
    "\n",
    "In this project we have to identify lane lines on the road using some of the helper functions provided with the project. We start with developing a pipeline on a series of individual images, and later apply the result to a video stream. Once we have this worked out, the next big part is to contribute to the **draw\\_lines()** function and try to average and/or extrapolate the line segments we've detected to map out the full extent of the lane lines. The output of the project is an annotated version of the input video stream shown by 2 solid lines annotating the left and right lanes throughout most of the video\n",
    "\n",
    "Final submissions of the project include:\n",
    "\n",
    "* Code: Make a pipeline that finds lane lines on the road\n",
    "* Write up: Reflect on your work in a written report\n",
    "\n",
    "##### Pipeline description\n",
    "\n",
    "My pipeline consisted of following steps:\n",
    "\n",
    "* Read an image/frame from a video and get rid of noise and smoothen the image using Gaussian filter\n",
    "\n",
    "* Convert from RGB to HSV color space to filter out into images with yellow lane (1st image) and white lane (2nd image) markings and combine both (3rd image)\n",
    "\n",
    "* Apply Canny on the combined image to find all edges (1st image) and then filter the only ones within the ROI (2nd image)\n",
    "\n",
    "* Apply Hough transform to find lines in the image (1st image) and then combine (2nd image) the found lines with the originial image frame\n",
    "\n",
    "Hough transform is applied using **hough\\_lines()** function which calls **draw\\_lines()** function to draw lines on the image frames. A good portion of the project is dedicated to modifying the **draw\\_lines()** function to annotate the resulting video with 2 solid lines on top of left and right lanes.\n"
   ]
  },
  {
   "cell_type": "markdown",
   "metadata": {
    "deletable": true,
    "editable": true
   },
   "source": [
    "## Import Packages"
   ]
  },
  {
   "cell_type": "code",
   "execution_count": 1,
   "metadata": {
    "collapsed": true,
    "deletable": true,
    "editable": true
   },
   "outputs": [],
   "source": [
    "#importing some useful packages\n",
    "import matplotlib.pyplot as plt\n",
    "import matplotlib.image as mpimg\n",
    "import numpy as np\n",
    "import cv2\n",
    "%matplotlib inline"
   ]
  },
  {
   "cell_type": "markdown",
   "metadata": {
    "deletable": true,
    "editable": true
   },
   "source": [
    "## Helper Functions"
   ]
  },
  {
   "cell_type": "code",
   "execution_count": 2,
   "metadata": {
    "collapsed": true,
    "deletable": true,
    "editable": true
   },
   "outputs": [],
   "source": [
    "import math\n",
    "\n",
    "def grayscale(img):\n",
    "    \"\"\"Applies the Grayscale transform\n",
    "    This will return an image with only one color channel\n",
    "    but NOTE: to see the returned image as grayscale\n",
    "    (assuming your grayscaled image is called 'gray')\n",
    "    you should call plt.imshow(gray, cmap='gray')\"\"\"\n",
    "    return cv2.cvtColor(img, cv2.COLOR_RGB2GRAY)\n",
    "    # Or use BGR2GRAY if you read an image with cv2.imread()\n",
    "    # return cv2.cvtColor(img, cv2.COLOR_BGR2GRAY)\n",
    "    \n",
    "def canny(img, low_threshold, high_threshold):\n",
    "    \"\"\"Applies the Canny transform\"\"\"\n",
    "    return cv2.Canny(img, low_threshold, high_threshold)\n",
    "\n",
    "def gaussian_blur(img, kernel_size):\n",
    "    \"\"\"Applies a Gaussian Noise kernel\"\"\"\n",
    "    return cv2.GaussianBlur(img, (kernel_size, kernel_size), 0)\n",
    "\n",
    "def region_of_interest(img, vertices):\n",
    "    \"\"\"\n",
    "    Applies an image mask.\n",
    "    \n",
    "    Only keeps the region of the image defined by the polygon\n",
    "    formed from `vertices`. The rest of the image is set to black.\n",
    "    \"\"\"\n",
    "    #defining a blank mask to start with\n",
    "    mask = np.zeros_like(img)   \n",
    "    \n",
    "    #defining a 3 channel or 1 channel color to fill the mask with depending on the input image\n",
    "    if len(img.shape) > 2:\n",
    "        channel_count = img.shape[2]  # i.e. 3 or 4 depending on your image\n",
    "        ignore_mask_color = (255,) * channel_count\n",
    "    else:\n",
    "        ignore_mask_color = 255\n",
    "        \n",
    "    #filling pixels inside the polygon defined by \"vertices\" with the fill color    \n",
    "    cv2.fillPoly(mask, vertices, ignore_mask_color)\n",
    "    \n",
    "    #returning the image only where mask pixels are nonzero\n",
    "    masked_image = cv2.bitwise_and(img, mask)\n",
    "    return masked_image"
   ]
  },
  {
   "cell_type": "markdown",
   "metadata": {
    "deletable": true,
    "editable": true
   },
   "source": [
    "## Improving the draw_lines() function\n",
    "\n",
    "**At this point, if you were successful with making the pipeline and tuning parameters, you probably have the Hough line segments drawn onto the road, but what about identifying the full extent of the lane and marking it clearly as in the example video (P1_example.mp4)?  Think about defining a line to run the full length of the visible lane based on the line segments you identified with the Hough Transform. As mentioned previously, try to average and/or extrapolate the line segments you've detected to map out the full extent of the lane lines. You can see an example of the result you're going for in the video \"P1_example.mp4\".**\n",
    "\n",
    "**The modified draw_lines function should draw a single, solid line over the left lane line and a single, solid line over the right lane line. The lines should start from the bottom of the image and extend out to the top of the region of interest.**"
   ]
  },
  {
   "cell_type": "code",
   "execution_count": 3,
   "metadata": {
    "collapsed": false,
    "deletable": true,
    "editable": true
   },
   "outputs": [],
   "source": [
    "def draw_lines(img, lines, color=[255, 0, 0], thickness=2):\n",
    "    \"\"\"\n",
    "    NOTE: this is the function you might want to use as a starting point once you want to \n",
    "    average/extrapolate the line segments you detect to map out the full\n",
    "    extent of the lane (going from the result shown in raw-lines-example.mp4\n",
    "    to that shown in P1_example.mp4).  \n",
    "    \n",
    "    Think about things like separating line segments by their \n",
    "    slope ((y2-y1)/(x2-x1)) to decide which segments are part of the left\n",
    "    line vs. the right line.  Then, you can average the position of each of \n",
    "    the lines and extrapolate to the top and bottom of the lane.\n",
    "    \n",
    "    This function draws `lines` with `color` and `thickness`.    \n",
    "    Lines are drawn on the image inplace (mutates the image).\n",
    "    If you want to make the lines semi-transparent, think about combining\n",
    "    this function with the weighted_img() function below\n",
    "    \"\"\"\n",
    "    pos_m = np.array([],dtype=np.int32).reshape(0,1)\n",
    "    neg_m = np.array([],dtype=np.int32).reshape(0,1)\n",
    "    \n",
    "    pos_c = np.array([],dtype=np.int32).reshape(0,2)\n",
    "    neg_c = np.array([],dtype=np.int32).reshape(0,2)\n",
    "    \n",
    "    pos_m_lines = np.array([],dtype=np.int32).reshape(0,4)\n",
    "    neg_m_lines = np.array([],dtype=np.int32).reshape(0,4)\n",
    "    \n",
    "    ##### CAPTURING SLOPES AND CENTERS OF LINES WITH REASONABLE SLOPE VALUES #####\n",
    "    \n",
    "    for line in lines:\n",
    "        for x1,y1,x2,y2 in line:\n",
    "            \n",
    "            m = (y2-y1)/(x2-x1)\n",
    "            c = np.array([np.int32((x1+x2)/2),np.int32((y1+y2)/2)])\n",
    "            \n",
    "            m_lim1 = 0.5\n",
    "            m_lim2 = 0.8\n",
    "            \n",
    "            # Filter out lines based on slopes and get rid of the lines with extreme slopes\n",
    "            if m < -m_lim1 and m > -m_lim2: # Since in an image compared to 2D cartesian co-ordinate system y is increasing downwards\n",
    "                # collect all pos slope values\n",
    "                pos_m = np.vstack([pos_m,m])                \n",
    "                # collect the centers of these points too\n",
    "                pos_c = np.vstack([pos_c,c])\n",
    "            elif m > m_lim1 and m < m_lim2:\n",
    "                # collect all neg slope values\n",
    "                neg_m = np.vstack([neg_m,m])\n",
    "                # collect all neg slope points\n",
    "                neg_c = np.vstack([neg_c,c])\n",
    "    \n",
    "    ###### FINDING AVERAGE SLOPE & INTERCEPT FOR EACH LANE FOR EXTRAPOLATION #####\n",
    "    \n",
    "    # Format it into an array so that the 2 for loops below can iterate over its elements \n",
    "    pos_c = [pos_c]\n",
    "    neg_c = [neg_c]\n",
    "    \n",
    "    # Using slope intercept form (y-y')=m(x-x') to find out 2 points to draw the l & r lines\n",
    "    # x,y we calculate as the average of the center points, set y'= img.height/2 then using\n",
    "    # avg slope m, calculate x'. That becomes one point. For the next one set y'= img.height\n",
    "    # and calculate x'. This becomes the second point. Draw a line using both. Repeat for the\n",
    "    # other lane\n",
    "        \n",
    "    # Find avg of l & r slope values for smoothing lines frame-to frame if there are lines \n",
    "    # with valid slopes in a frame else provide average slope between the limits\n",
    "        \n",
    "    if len(pos_m) != 0:\n",
    "        l_m_avg = sum(pos_m)/len(pos_m)        \n",
    "    else:\n",
    "        l_m_avg = -(m_lim1 + m_lim2)/2\n",
    "        \n",
    "    if len(neg_m) != 0:\n",
    "        r_m_avg = sum(neg_m)/len(neg_m)\n",
    "    else:\n",
    "        r_m_avg = (m_lim1 + m_lim2)/2\n",
    "    \n",
    "    #print(\"L slopes avg\",l_m_avg)\n",
    "        \n",
    "    imshape = img.shape\n",
    "    \n",
    "    # Finding top intercepts for LEFT lane\n",
    "    l_p1_y_prime = int(imshape[0]/2) + 100 # more than half the height of img to align well with the lane markings\n",
    "    l_p1_x_prime_list = []\n",
    "    \n",
    "    for point in pos_c:\n",
    "        for x,y in point:            \n",
    "            x_prime = x - int((y-l_p1_y_prime)/l_m_avg)  \n",
    "            \n",
    "            # limits applied above to filter top intercepts\n",
    "            if x_prime > int(0.4*imshape[1]) and x_prime < int(0.5*imshape[1]):\n",
    "                l_p1_x_prime_list = l_p1_x_prime_list + [x_prime]           \n",
    "    \n",
    "    # Averaging all the intercepts for smoothing    \n",
    "    if len(l_p1_x_prime_list) != 0:\n",
    "        l_p1_x_prime = int(sum(l_p1_x_prime_list)/len(l_p1_x_prime_list))\n",
    "    else:\n",
    "        l_p1_x_prime = int(0.45*imshape[1]) # avg of the limits applied above to filter top intercepts        \n",
    "        \n",
    "    # Finding bottom intercepts for LEFT lane   \n",
    "    l_p2_y_prime = imshape[0] # height of image\n",
    "    l_p2_x_prime_list = []\n",
    "    \n",
    "    for point in pos_c:\n",
    "        for x,y in point:\n",
    "            x_prime = x - int((y-l_p2_y_prime)/l_m_avg)\n",
    "            \n",
    "            # limits applied above to filter bottom intercepts\n",
    "            if x_prime > int(0.10*imshape[1]) and x_prime < int(0.30*imshape[1]):\n",
    "                l_p2_x_prime_list = l_p2_x_prime_list + [x_prime]\n",
    "       \n",
    "    # Averaging all the intercepts for smoothing\n",
    "    if len(l_p2_x_prime_list) != 0:\n",
    "        l_p2_x_prime = int(sum(l_p2_x_prime_list)/len(l_p2_x_prime_list))\n",
    "    else:\n",
    "        l_p2_x_prime = int(0.20*imshape[1])        \n",
    "        \n",
    "    pos_line = np.array([l_p1_x_prime,l_p1_y_prime,l_p2_x_prime,l_p2_y_prime])\n",
    "    \n",
    "    # Finding top intercepts for RIGHT lane\n",
    "    r_p1_y_prime = int(imshape[0]/2) + 100 # more than half the height of img to align well with the lane markings\n",
    "    r_p1_x_prime_list = []\n",
    "    \n",
    "    for point in neg_c:\n",
    "        for x,y in point:\n",
    "            x_prime = x - int((y-r_p1_y_prime)/r_m_avg)            \n",
    "            # limits applied above to filter top intercepts\n",
    "            if x_prime > int(0.55*imshape[1]) and x_prime < int(0.65*imshape[1]):\n",
    "                r_p1_x_prime_list = r_p1_x_prime_list + [x_prime]\n",
    "    \n",
    "    # Averaging all the intercepts for smoothing\n",
    "    if len(r_p1_x_prime_list) != 0:\n",
    "        r_p1_x_prime = int(sum(r_p1_x_prime_list)/len(r_p1_x_prime_list))\n",
    "    else:\n",
    "        r_p1_x_prime = int(0.60*imshape[1])        \n",
    "        \n",
    "    # Finding bottom intercept for RIGHT lane\n",
    "    r_p2_y_prime = imshape[0] # height of image\n",
    "    r_p2_x_prime_list = []\n",
    "    \n",
    "    for point in neg_c:\n",
    "        for x,y in point:\n",
    "            x_prime = x - int((y-r_p2_y_prime)/r_m_avg)\n",
    "            \n",
    "            # limits applied above to filter bottom intercepts\n",
    "            if x_prime > int(0.75*imshape[1]) and x_prime < int(1.0*imshape[1]):\n",
    "                r_p2_x_prime_list = r_p2_x_prime_list + [x_prime]\n",
    "    \n",
    "    # Averaging all the intercepts for smoothing\n",
    "    if len(r_p2_x_prime_list) != 0:\n",
    "        r_p2_x_prime = int(sum(r_p2_x_prime_list)/len(r_p2_x_prime_list))\n",
    "    else:\n",
    "        r_p2_x_prime = int(0.85*imshape[1])        \n",
    "        \n",
    "    neg_line = np.array([r_p1_x_prime,r_p1_y_prime,r_p2_x_prime,r_p2_y_prime])\n",
    "    \n",
    "    return pos_line, neg_line\n",
    "\n",
    "def hough_lines(img, rho, theta, threshold, min_line_len, max_line_gap):\n",
    "    \"\"\"\n",
    "    `img` should be the output of a Canny transform.\n",
    "        \n",
    "    Returns an image with hough lines drawn.\n",
    "    \"\"\"\n",
    "    lines = cv2.HoughLinesP(img, rho, theta, threshold, np.array([]), minLineLength=min_line_len, maxLineGap=max_line_gap)    \n",
    "   \n",
    "    line_img = np.zeros((img.shape[0], img.shape[1], 3), dtype=np.uint8)    \n",
    "    pos_img = np.zeros((img.shape[0], img.shape[1], 3), dtype=np.uint8)\n",
    "    neg_img = np.zeros((img.shape[0], img.shape[1], 3), dtype=np.uint8)\n",
    "    \n",
    "    [pos,neg] = draw_lines(line_img, lines)\n",
    "    \n",
    "    final_pos_line = [pos]\n",
    "    final_neg_line = [neg]\n",
    "    \n",
    "    for x1,y1,x2,y2 in final_pos_line:\n",
    "        cv2.line(pos_img, (x1, y1), (x2, y2), color=[0, 255, 255], thickness=10)\n",
    "    \n",
    "    for x1,y1,x2,y2 in final_neg_line:\n",
    "        cv2.line(neg_img, (x1, y1), (x2, y2), color=[0, 255, 0], thickness=10)\n",
    "    \n",
    "    line_img = pos_img + neg_img\n",
    "    return line_img\n",
    "\n",
    "# Python 3 has support for cool math symbols.\n",
    "\n",
    "def weighted_img(img, initial_img, α=0.8, β=1., λ=0.):\n",
    "    \"\"\"\n",
    "    `img` is the output of the hough_lines(), An image with lines drawn on it.\n",
    "    Should be a blank image (all black) with lines drawn on it.\n",
    "    \n",
    "    `initial_img` should be the image before any processing.\n",
    "    \n",
    "    The result image is computed as follows:\n",
    "    \n",
    "    initial_img * α + img * β + λ\n",
    "    NOTE: initial_img and img must be the same shape!\n",
    "    \"\"\"\n",
    "    return cv2.addWeighted(initial_img, α, img, β, λ)"
   ]
  },
  {
   "cell_type": "markdown",
   "metadata": {
    "deletable": true,
    "editable": true
   },
   "source": [
    "## Test Images\n",
    "\n",
    "Build your pipeline to work on the images in the directory \"test_images\"  "
   ]
  },
  {
   "cell_type": "code",
   "execution_count": 4,
   "metadata": {
    "collapsed": true,
    "deletable": true,
    "editable": true
   },
   "outputs": [],
   "source": [
    "#reading in an image\n",
    "import os\n",
    "files = os.listdir(\"test_images/\")"
   ]
  },
  {
   "cell_type": "markdown",
   "metadata": {
    "deletable": true,
    "editable": true
   },
   "source": [
    "## Lane Finding Pipeline\n"
   ]
  },
  {
   "cell_type": "code",
   "execution_count": 5,
   "metadata": {
    "collapsed": false,
    "deletable": true,
    "editable": true
   },
   "outputs": [],
   "source": [
    "for file in files:\n",
    "    if file[0:3] != 'out':\n",
    "   \n",
    "        image = mpimg.imread('test_images/'+file)\n",
    "        \n",
    "        # Apply Gaussian filter to smoothen the image frame\n",
    "        blur_img = gaussian_blur(image,3)\n",
    "        \n",
    "        # Convert to HSV color space\n",
    "        hsv = cv2.cvtColor(blur_img,cv2.COLOR_BGR2HSV)\n",
    "        \n",
    "        # Filter out yellow and white lanes        \n",
    "        Y_LOWER = np.array([2,2,210])\n",
    "        Y_UPPER = np.array([255,255,255])\n",
    "        Y_img = cv2.inRange(hsv,Y_LOWER, Y_UPPER)\n",
    "    \n",
    "        W_LOWER = np.array([3,1,140])\n",
    "        W_UPPER = np.array([255,30,255])\n",
    "        W_img = cv2.inRange(hsv,W_LOWER, W_UPPER)\n",
    "        \n",
    "        # Combine yellow and white filtered images\n",
    "        color_filtered_image = Y_img + W_img\n",
    "        \n",
    "        # Apply Canny\n",
    "        low_threshold = 75\n",
    "        high_threshold = 225\n",
    "        canny_img = canny(color_filtered_image,low_threshold, high_threshold)\n",
    "        \n",
    "        # Defining ROI\n",
    "        imshape = image.shape        \n",
    "        vertices = np.array([[(0,imshape[0]),(460, 320), (500, 320), (imshape[1],imshape[0])]], dtype=np.int32)\n",
    "        p0 = vertices[0][0]\n",
    "        p1 = vertices[0][1]\n",
    "        p2 = vertices[0][2]\n",
    "        p3 = vertices[0][3]\n",
    "\n",
    "        # Draw the ROI on image for reference\n",
    "        line = [[np.append(p0,[p1])],[np.append(p1,[p2])],[np.append(p2,[p3])],[np.append(p3,[p0])]]\n",
    "        #draw_lines(image,line, color=[255,255,0],thickness = 3)\n",
    "        canny_img_with_ROI = region_of_interest(canny_img,vertices)         \n",
    "\n",
    "        # Defining Hough transform parameters\n",
    "        rho = 1 # distance resolution in pixels of the Hough grid\n",
    "        theta = np.pi/180 # angular resolution in radians of the Hough grid\n",
    "        threshold = 20     # minimum number of votes (intersections in Hough grid cell)\n",
    "        min_line_len = 5 #minimum number of pixels making up a line\n",
    "        max_line_gap = 3    # maximum gap in pixels between connectable line segments\n",
    "\n",
    "        # Run Hough on extracted ROI\n",
    "        line_image = hough_lines(canny_img_with_ROI, rho, theta, threshold, min_line_len, max_line_gap)        \n",
    "        final_image = weighted_img(line_image,image)        \n",
    "       \n",
    "        # Save the outputs\n",
    "        mpimg.imsave('test_images/out_'+file,final_image)\n",
    "        "
   ]
  },
  {
   "cell_type": "markdown",
   "metadata": {
    "deletable": true,
    "editable": true
   },
   "source": [
    "# Test on Videos now"
   ]
  },
  {
   "cell_type": "code",
   "execution_count": 6,
   "metadata": {
    "collapsed": true,
    "deletable": true,
    "editable": true
   },
   "outputs": [],
   "source": [
    "# Import everything needed to edit/save/watch video clips\n",
    "from moviepy.editor import VideoFileClip\n",
    "from IPython.display import HTML"
   ]
  },
  {
   "cell_type": "markdown",
   "metadata": {
    "deletable": true,
    "editable": true
   },
   "source": [
    "# Lane Finding Pipeline here for videos"
   ]
  },
  {
   "cell_type": "code",
   "execution_count": 7,
   "metadata": {
    "collapsed": true,
    "deletable": true,
    "editable": true
   },
   "outputs": [],
   "source": [
    "def process_image(image):\n",
    "    # NOTE: The output you return should be a color image (3 channel) for processing video below\n",
    "    # TODO: put your pipeline here,\n",
    "    # you should return the final output (image where lines are drawn on lanes)\n",
    "    \n",
    "    # Apply Gaussian filter to smoothen the image frame\n",
    "    blur_img = gaussian_blur(image,3)\n",
    "\n",
    "    # Convert to HSV color space\n",
    "    hsv = cv2.cvtColor(blur_img,cv2.COLOR_BGR2HSV)\n",
    "    \n",
    "    # Filter out yellow and white lanes\n",
    "    Y_LOWER = np.array([2,2,210])\n",
    "    Y_UPPER = np.array([255,255,255])\n",
    "    Y_img = cv2.inRange(hsv,Y_LOWER, Y_UPPER)\n",
    "    \n",
    "    W_LOWER = np.array([3,1,140])\n",
    "    W_UPPER = np.array([255,30,255])\n",
    "    W_img = cv2.inRange(hsv,W_LOWER, W_UPPER)\n",
    "    \n",
    "    # Combine yellow and white filtered images\n",
    "    color_filtered_image = Y_img + W_img\n",
    "    \n",
    "    # Apply Canny\n",
    "    low_threshold = 75\n",
    "    high_threshold = 225\n",
    "    canny_img = canny(color_filtered_image,low_threshold, high_threshold)\n",
    "\n",
    "    # Defining ROI\n",
    "    imshape = image.shape\n",
    "    vertices = np.array([[(0,imshape[0]),(460, 320), (500, 320), (imshape[1],imshape[0])]], dtype=np.int32)\n",
    "    p0 = vertices[0][0]\n",
    "    p1 = vertices[0][1]\n",
    "    p2 = vertices[0][2]\n",
    "    p3 = vertices[0][3]\n",
    "\n",
    "    # Draw the ROI on image for reference \n",
    "    line = [[np.append(p0,[p1])],[np.append(p1,[p2])],[np.append(p2,[p3])],[np.append(p3,[p0])]]\n",
    "    #draw_lines(image,line, color=[255,255,0],thickness = 3)\n",
    "    canny_img_with_ROI = region_of_interest(canny_img,vertices)         \n",
    "\n",
    "    # Define Hough transform parameters\n",
    "    rho = 1 # distance resolution in pixels of the Hough grid\n",
    "    theta = np.pi/180 # angular resolution in radians of the Hough grid\n",
    "    threshold = 20     # minimum number of votes (intersections in Hough grid cell)\n",
    "    min_line_len = 5 #minimum number of pixels making up a line\n",
    "    max_line_gap = 3    # maximum gap in pixels between connectable line segments\n",
    "\n",
    "    # Run Hough on extracted ROI\n",
    "    line_image = hough_lines(canny_img_with_ROI, rho, theta, threshold, min_line_len, max_line_gap)    \n",
    "    result = weighted_img(line_image,image)\n",
    "    return result"
   ]
  },
  {
   "cell_type": "markdown",
   "metadata": {
    "deletable": true,
    "editable": true
   },
   "source": [
    "# Save & Display Output videos"
   ]
  },
  {
   "cell_type": "code",
   "execution_count": 8,
   "metadata": {
    "collapsed": false,
    "deletable": true,
    "editable": true
   },
   "outputs": [
    {
     "name": "stdout",
     "output_type": "stream",
     "text": [
      "[MoviePy] >>>> Building video yellow.mp4\n",
      "[MoviePy] Writing video yellow.mp4\n"
     ]
    },
    {
     "name": "stderr",
     "output_type": "stream",
     "text": [
      "100%|███████████████████████████████████████▉| 681/682 [00:20<00:00, 32.43it/s]\n"
     ]
    },
    {
     "name": "stdout",
     "output_type": "stream",
     "text": [
      "[MoviePy] Done.\n",
      "[MoviePy] >>>> Video ready: yellow.mp4 \n",
      "\n",
      "Wall time: 21.8 s\n"
     ]
    }
   ],
   "source": [
    "yellow_output = 'yellow.mp4'\n",
    "clip2 = VideoFileClip('solidYellowLeft.mp4')\n",
    "yellow_clip = clip2.fl_image(process_image)\n",
    "%time yellow_clip.write_videofile(yellow_output, audio=False)"
   ]
  },
  {
   "cell_type": "code",
   "execution_count": 9,
   "metadata": {
    "collapsed": false,
    "deletable": true,
    "editable": true
   },
   "outputs": [
    {
     "data": {
      "text/html": [
       "\n",
       "<video width=\"960\" height=\"540\" controls>\n",
       "  <source src=\"yellow.mp4\">\n",
       "</video>\n"
      ],
      "text/plain": [
       "<IPython.core.display.HTML object>"
      ]
     },
     "execution_count": 9,
     "metadata": {},
     "output_type": "execute_result"
    }
   ],
   "source": [
    "HTML(\"\"\"\n",
    "<video width=\"960\" height=\"540\" controls>\n",
    "  <source src=\"{0}\">\n",
    "</video>\n",
    "\"\"\".format(yellow_output))"
   ]
  },
  {
   "cell_type": "code",
   "execution_count": 10,
   "metadata": {
    "collapsed": false,
    "deletable": true,
    "editable": true
   },
   "outputs": [
    {
     "name": "stdout",
     "output_type": "stream",
     "text": [
      "[MoviePy] >>>> Building video extra.mp4\n",
      "[MoviePy] Writing video extra.mp4\n"
     ]
    },
    {
     "name": "stderr",
     "output_type": "stream",
     "text": [
      "100%|████████████████████████████████████████| 251/251 [00:14<00:00, 17.07it/s]\n"
     ]
    },
    {
     "name": "stdout",
     "output_type": "stream",
     "text": [
      "[MoviePy] Done.\n",
      "[MoviePy] >>>> Video ready: extra.mp4 \n",
      "\n",
      "Wall time: 16.3 s\n"
     ]
    }
   ],
   "source": [
    "challenge_output = 'extra.mp4'\n",
    "clip2 = VideoFileClip('challenge.mp4')\n",
    "challenge_clip = clip2.fl_image(process_image)\n",
    "%time challenge_clip.write_videofile(challenge_output, audio=False)"
   ]
  },
  {
   "cell_type": "code",
   "execution_count": 11,
   "metadata": {
    "collapsed": false,
    "deletable": true,
    "editable": true
   },
   "outputs": [
    {
     "data": {
      "text/html": [
       "\n",
       "<video width=\"960\" height=\"540\" controls>\n",
       "  <source src=\"extra.mp4\">\n",
       "</video>\n"
      ],
      "text/plain": [
       "<IPython.core.display.HTML object>"
      ]
     },
     "execution_count": 11,
     "metadata": {},
     "output_type": "execute_result"
    }
   ],
   "source": [
    "HTML(\"\"\"\n",
    "<video width=\"960\" height=\"540\" controls>\n",
    "  <source src=\"{0}\">\n",
    "</video>\n",
    "\"\"\".format(challenge_output))"
   ]
  }
 ],
 "metadata": {
  "kernelspec": {
   "display_name": "Python 3",
   "language": "python",
   "name": "python3"
  },
  "language_info": {
   "codemirror_mode": {
    "name": "ipython",
    "version": 3
   },
   "file_extension": ".py",
   "mimetype": "text/x-python",
   "name": "python",
   "nbconvert_exporter": "python",
   "pygments_lexer": "ipython3",
   "version": "3.5.2"
  },
  "widgets": {
   "state": {},
   "version": "1.1.2"
  }
 },
 "nbformat": 4,
 "nbformat_minor": 2
}
